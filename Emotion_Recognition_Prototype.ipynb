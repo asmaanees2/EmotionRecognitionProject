{
 "cells": [
  {
   "cell_type": "markdown",
   "metadata": {},
   "source": [
    "# Emotion Recognition Prototype (Colab Ready)\n",
    "Upload dataset, select preprocessing, choose model, and train/test."
   ]
  },
  {
   "cell_type": "code",
   "execution_count": null,
   "metadata": {},
   "outputs": [],
   "source": [
    "!pip install nltk scikit-learn matplotlib seaborn ipywidgets --quiet"
   ]
  },
  {
   "cell_type": "code",
   "execution_count": null,
   "metadata": {},
   "outputs": [],
   "source": [
    "import pandas as pd, nltk, string, seaborn as sns, matplotlib.pyplot as plt\n",
    "from sklearn.model_selection import train_test_split\n",
    "from sklearn.feature_extraction.text import TfidfVectorizer\n",
    "from sklearn.metrics import classification_report, confusion_matrix, accuracy_score\n",
    "from sklearn.linear_model import LogisticRegression\n",
    "from sklearn.naive_bayes import MultinomialNB\n",
    "from sklearn.svm import LinearSVC\n",
    "import ipywidgets as widgets\n",
    "from IPython.display import display\n",
    "nltk.download('punkt'); nltk.download('stopwords')"
   ]
  },
  {
   "cell_type": "code",
   "execution_count": null,
   "metadata": {},
   "outputs": [],
   "source": [
    "from google.colab import files\n",
    "uploaded = files.upload()\n",
    "for fn in uploaded.keys(): dataset_path = fn\n",
    "df = pd.read_csv(dataset_path)\n",
    "df.head()"
   ]
  },
  {
   "cell_type": "code",
   "execution_count": null,
   "metadata": {},
   "outputs": [],
   "source": [
    "from nltk.corpus import stopwords\n",
    "stop_words = set(stopwords.words('english'))\n",
    "def preprocess_text(text, lowercase=True, remove_punct=True, remove_stop=True):\n",
    "    if lowercase: text = text.lower()\n",
    "    if remove_punct: text = text.translate(str.maketrans('', '', string.punctuation))\n",
    "    tokens = nltk.word_tokenize(text)\n",
    "    if remove_stop: tokens = [w for w in tokens if w not in stop_words]\n",
    "    return ' '.join(tokens)"
   ]
  },
  {
   "cell_type": "code",
   "execution_count": null,
   "metadata": {},
   "outputs": [],
   "source": [
    "lowercase_chk = widgets.Checkbox(value=True, description='Lowercase')\n",
    "punct_chk = widgets.Checkbox(value=True, description='Remove Punctuation')\n",
    "stop_chk = widgets.Checkbox(value=True, description='Remove Stopwords')\n",
    "btn_apply = widgets.Button(description='Apply Preprocessing')\n",
    "out = widgets.Output()\n",
    "def on_apply_clicked(b):\n",
    "    with out:\n",
    "        out.clear_output()\n",
    "        df['clean_text'] = df['content'].astype(str).apply(lambda x: preprocess_text(x, lowercase_chk.value, punct_chk.value, stop_chk.value))\n",
    "        print('Preprocessing Applied!')\n",
    "        display(df.head())\n",
    "btn_apply.on_click(on_apply_clicked)\n",
    "display(lowercase_chk, punct_chk, stop_chk, btn_apply, out)"
   ]
  },
  {
   "cell_type": "code",
   "execution_count": null,
   "metadata": {},
   "outputs": [],
   "source": [
    "X = df['content']\n",
    "y = df['label']\n",
    "X_train, X_test, y_train, y_test = train_test_split(X, y, test_size=0.3, random_state=42)\n",
    "vectorizer = TfidfVectorizer()\n",
    "X_train_vec = vectorizer.fit_transform(X_train)\n",
    "X_test_vec = vectorizer.transform(X_test)\n",
    "model_dropdown = widgets.Dropdown(options=['Logistic Regression','Naive Bayes','SVM'], description='Model:')\n",
    "train_btn = widgets.Button(description='Train Model')\n",
    "out_train = widgets.Output()\n",
    "def on_train_clicked(b):\n",
    "    with out_train:\n",
    "        out_train.clear_output()\n",
    "        if model_dropdown.value=='Logistic Regression': model=LogisticRegression(max_iter=1000)\n",
    "        elif model_dropdown.value=='Naive Bayes': model=MultinomialNB()\n",
    "        else: model=LinearSVC()\n",
    "        model.fit(X_train_vec,y_train)\n",
    "        y_pred=model.predict(X_test_vec)\n",
    "        print('Accuracy:',accuracy_score(y_test,y_pred))\n",
    "        print(classification_report(y_test,y_pred))\n",
    "        cm=confusion_matrix(y_test,y_pred)\n",
    "        sns.heatmap(cm,annot=True,fmt='d'); plt.show()\n",
    "train_btn.on_click(on_train_clicked)\n",
    "display(model_dropdown, train_btn, out_train)"
   ]
  }
 ],
 "metadata": {
  "kernelspec": {"display_name": "Python 3", "language": "python", "name": "python3"},
  "language_info": {"name": "python", "version": "3.8"}
 },
 "nbformat": 4,
 "nbformat_minor": 2
}